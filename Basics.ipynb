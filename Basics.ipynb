{
 "cells": [
  {
   "cell_type": "markdown",
   "metadata": {},
   "source": [
    "# Profitable App Profiles for the App Store and Google Play Markets\n",
    "***\n",
    "**Our aim in this project is to find mobile app profiles that are profitable for the App Store and Google Play markets. We're working as data analysts for a company that builds Android and iOS mobile apps, and our job is to enable our team of developers to make data-driven decisions with respect to the kind of apps they build.**\n",
    "\n",
    "**At our company, we only build apps that are free to download and install, and our main source of revenue consists of in-app ads. This means that our revenue for any given app is mostly influenced by the number of users that use our app. Our goal for this project is to analyze data to help our developers understand what kinds of apps are likely to attract more users.**\n",
    "\n",
    "# Opening and Exploring the Data\n",
    "***\n",
    "\n",
    "**As of September 2018, there were approximately 2 million iOS apps available on the App Store, and 2.1 million Android apps on Google Play.**\n",
    "\n",
    "**Collecting data for over four million apps requires a significant amount of time and money, so we'll try to analyze a sample of data instead. To avoid spending resources with collecting new data ourselves, we should first try to see whether we can find any relevant existing data at no cost. Luckily, these are two data sets that seem suitable for our purpose:**\n",
    "\n",
    "**[A data](https://www.kaggle.com/lava18/google-play-store-apps) set containing data about approximately ten thousand Android apps from Google Play. You can download the data set directly from [this link](https://dq-content.s3.amazonaws.com/350/googleplaystore.csv).**\n",
    "\n",
    "**[A data](https://www.kaggle.com/ramamet4/app-store-apple-data-set-10k-apps) set containing data about approximately seven thousand iOS apps from the App Store. You can download the data set directly from [this link](https://dq-content.s3.amazonaws.com/350/AppleStore.csv).**\n",
    "\n",
    "**Let's start by opening the two data sets and then continue with exploring the data.**"
   ]
  },
  {
   "cell_type": "code",
   "execution_count": 83,
   "metadata": {
    "scrolled": true
   },
   "outputs": [
    {
     "name": "stdout",
     "output_type": "stream",
     "text": [
      "['id', 'track_name', 'size_bytes', 'currency', 'price', 'rating_count_tot', 'rating_count_ver', 'user_rating', 'user_rating_ver', 'ver', 'cont_rating', 'prime_genre', 'sup_devices.num', 'ipadSc_urls.num', 'lang.num', 'vpp_lic']\n",
      "\n",
      "\n",
      "['284882215', 'Facebook', '389879808', 'USD', '0.0', '2974676', '212', '3.5', '3.5', '95.0', '4+', 'Social Networking', '37', '1', '29', '1']\n",
      "\n",
      "\n",
      "['389801252', 'Instagram', '113954816', 'USD', '0.0', '2161558', '1289', '4.5', '4.0', '10.23', '12+', 'Photo & Video', '37', '0', '29', '1']\n",
      "\n",
      "\n",
      "['529479190', 'Clash of Clans', '116476928', 'USD', '0.0', '2130805', '579', '4.5', '4.5', '9.24.12', '9+', 'Games', '38', '5', '18', '1']\n",
      "\n",
      "\n",
      "['420009108', 'Temple Run', '65921024', 'USD', '0.0', '1724546', '3842', '4.5', '4.0', '1.6.2', '9+', 'Games', '40', '5', '1', '1']\n",
      "\n",
      "\n",
      "Number of rows: 7198\n",
      "Number of columns: 16\n",
      "\n",
      "\n",
      "['App', 'Category', 'Rating', 'Reviews', 'Size', 'Installs', 'Type', 'Price', 'Content Rating', 'Genres', 'Last Updated', 'Current Ver', 'Android Ver']\n",
      "\n",
      "\n",
      "['Photo Editor & Candy Camera & Grid & ScrapBook', 'ART_AND_DESIGN', '4.1', '159', '19M', '10,000+', 'Free', '0', 'Everyone', 'Art & Design', 'January 7, 2018', '1.0.0', '4.0.3 and up']\n",
      "\n",
      "\n",
      "['Coloring book moana', 'ART_AND_DESIGN', '3.9', '967', '14M', '500,000+', 'Free', '0', 'Everyone', 'Art & Design;Pretend Play', 'January 15, 2018', '2.0.0', '4.0.3 and up']\n",
      "\n",
      "\n",
      "['U Launcher Lite – FREE Live Cool Themes, Hide Apps', 'ART_AND_DESIGN', '4.7', '87510', '8.7M', '5,000,000+', 'Free', '0', 'Everyone', 'Art & Design', 'August 1, 2018', '1.2.4', '4.0.3 and up']\n",
      "\n",
      "\n",
      "['Sketch - Draw & Paint', 'ART_AND_DESIGN', '4.5', '215644', '25M', '50,000,000+', 'Free', '0', 'Teen', 'Art & Design', 'June 8, 2018', 'Varies with device', '4.2 and up']\n",
      "\n",
      "\n",
      "Number of rows: 10842\n",
      "Number of columns: 13\n"
     ]
    }
   ],
   "source": [
    "from csv import reader\n",
    "\n",
    "def explore_data(dataset, start, end, rows_and_columns=False):\n",
    "    dataset_slice = dataset[start:end]    \n",
    "    for row in dataset_slice:\n",
    "        print(row)\n",
    "        print('\\n') # adds a new (empty) line after each row\n",
    "\n",
    "    if rows_and_columns:\n",
    "        print('Number of rows:', len(dataset))\n",
    "        print('Number of columns:', len(dataset[0]))\n",
    "        \n",
    "#AppleData\n",
    "openApple = open('AppleStore.csv')\n",
    "readApple = reader(openApple)\n",
    "appleData = list(readApple)\n",
    "headerApple = appleData[0]\n",
    "print(headerApple)\n",
    "print('\\n')\n",
    "explore_data(appleData,1,5, True)\n",
    "print('\\n')\n",
    "\n",
    "#GoogleData\n",
    "openGoogle = open('googleplaystore.csv')\n",
    "readGoogle = reader(openGoogle)\n",
    "googleData = list(readGoogle)\n",
    "headerGoogle = googleData[0]        \n",
    "print(headerGoogle)\n",
    "print('\\n')\n",
    "explore_data(googleData,1,5,True)"
   ]
  },
  {
   "cell_type": "code",
   "execution_count": 84,
   "metadata": {},
   "outputs": [
    {
     "name": "stdout",
     "output_type": "stream",
     "text": [
      "['osmino Wi-Fi: free WiFi', 'TOOLS', '4.2', '134203', '4.1M', '10,000,000+', 'Free', '0', 'Everyone', 'Tools', 'August 7, 2018', '6.06.14', '4.4 and up']\n"
     ]
    }
   ],
   "source": [
    "del googleData[10473]\n",
    "print(googleData[10473])\n"
   ]
  },
  {
   "cell_type": "markdown",
   "metadata": {},
   "source": [
    "*Some of the data is duplicate.The following code shows one such scenario.*"
   ]
  },
  {
   "cell_type": "code",
   "execution_count": 85,
   "metadata": {
    "scrolled": true
   },
   "outputs": [
    {
     "name": "stdout",
     "output_type": "stream",
     "text": [
      "['Instagram', 'SOCIAL', '4.5', '66577313', 'Varies with device', '1,000,000,000+', 'Free', '0', 'Teen', 'Social', 'July 31, 2018', 'Varies with device', 'Varies with device']\n",
      "['Instagram', 'SOCIAL', '4.5', '66577446', 'Varies with device', '1,000,000,000+', 'Free', '0', 'Teen', 'Social', 'July 31, 2018', 'Varies with device', 'Varies with device']\n",
      "['Instagram', 'SOCIAL', '4.5', '66577313', 'Varies with device', '1,000,000,000+', 'Free', '0', 'Teen', 'Social', 'July 31, 2018', 'Varies with device', 'Varies with device']\n",
      "['Instagram', 'SOCIAL', '4.5', '66509917', 'Varies with device', '1,000,000,000+', 'Free', '0', 'Teen', 'Social', 'July 31, 2018', 'Varies with device', 'Varies with device']\n"
     ]
    }
   ],
   "source": [
    "for data in googleData[1:] :\n",
    "        if data[0] == 'Instagram':\n",
    "            print(data)"
   ]
  },
  {
   "cell_type": "code",
   "execution_count": 86,
   "metadata": {},
   "outputs": [
    {
     "name": "stdout",
     "output_type": "stream",
     "text": [
      "1181\n"
     ]
    }
   ],
   "source": [
    "#Count the number of duplicates:\n",
    "count_duplicate = 0 \n",
    "unique_list = []\n",
    "for data in googleData[1:] :\n",
    "    if data[0] in unique_list:\n",
    "        count_duplicate += 1\n",
    "    else:\n",
    "        unique_list.append(data[0])\n",
    "print(count_duplicate)"
   ]
  },
  {
   "cell_type": "markdown",
   "metadata": {},
   "source": [
    "*I will remove the duplicate apps in the dataset. In order to do that, I will only keep the data with most number of rating by the users and delete the rest.*"
   ]
  },
  {
   "cell_type": "code",
   "execution_count": 87,
   "metadata": {
    "scrolled": true
   },
   "outputs": [
    {
     "name": "stdout",
     "output_type": "stream",
     "text": [
      "9659\n"
     ]
    }
   ],
   "source": [
    "review_max = {}\n",
    "for data in googleData[1:] :\n",
    "    name = data[0]\n",
    "    n_reviews = float(data[3])\n",
    "    if name in review_max and review_max[name] < n_reviews:\n",
    "        review_max[name] = n_reviews\n",
    "    elif name not in review_max :\n",
    "        review_max[name] = n_reviews\n",
    "\n",
    "android_clean = []\n",
    "already_added = []\n",
    "already_added.append(googleData[0])\n",
    "for data in googleData[1:] :\n",
    "    name = data[0]\n",
    "    n_review = float(data[3])\n",
    "    if n_review == review_max[name] and name not in already_added :\n",
    "        android_clean.append(data)\n",
    "        already_added.append(name)\n",
    "print(len(android_clean))\n",
    "    \n",
    "        "
   ]
  },
  {
   "cell_type": "markdown",
   "metadata": {},
   "source": [
    "*In the following step i removed non english apps from the dataset.*"
   ]
  },
  {
   "cell_type": "code",
   "execution_count": 93,
   "metadata": {},
   "outputs": [
    {
     "name": "stdout",
     "output_type": "stream",
     "text": [
      "7198\n"
     ]
    }
   ],
   "source": [
    "def checkString(input) :\n",
    "    count = 0\n",
    "    for character in input:\n",
    "        if ord(character) > 127:\n",
    "            count += 1\n",
    "    if count > 3:\n",
    "        return False\n",
    "    return True\n",
    "\n",
    "newGoogleData = []\n",
    "newGoogleData.append(android_clean[0])\n",
    "for data in android_clean[1:]:\n",
    "    if checkString(data[0]):\n",
    "        newGoogleData.append(data)\n",
    "        \n",
    "newAppleData = []\n",
    "newAppleData.append(appleData[0])\n",
    "for data in appleData[1:]:\n",
    "    if checkString(data[0]):\n",
    "        newAppleData.append(data) "
   ]
  },
  {
   "cell_type": "markdown",
   "metadata": {},
   "source": [
    "*In this step I will remove apps which are not free.*"
   ]
  },
  {
   "cell_type": "code",
   "execution_count": 94,
   "metadata": {},
   "outputs": [],
   "source": [
    "freeGoogleData = []\n",
    "for data in newGoogleData[1:]:\n",
    "    if data[7] == '0':\n",
    "        freeGoogleData.append(data)\n",
    "\n",
    "freeAppleData = []\n",
    "for data in newAppleData[1:]:\n",
    "    if float(data[4]) == 0.0:\n",
    "        freeAppleData.append(data)"
   ]
  },
  {
   "cell_type": "markdown",
   "metadata": {},
   "source": [
    "As we mentioned in the introduction, our aim is to determine the kinds of apps that are likely to attract more users because our revenue is highly influenced by the number of people using our apps.\n",
    "\n",
    "To minimize risks and overhead, our validation strategy for an app idea is comprised of three steps:\n",
    "\n",
    "* Build a minimal Android version of the app, and add it to Google Play.\n",
    "* If the app has a good response from users, we then develop it further.\n",
    "* If the app is profitable after six months, we also build an iOS version of the app and add it to the App Store.\n",
    "\n",
    "Because our end goal is to add the app on both the App Store and Google Play, we need to find app profiles that are successful on both markets. For instance, a profile that might work well for both markets might be a productivity app that makes use of gamification.\n",
    "\n",
    "Let's begin the analysis by getting a sense of the most common genres for each market. For this, we'll build a frequency table for the prime_genre column of the App Store data set, and the Genres and Category columns of the Google Play data set."
   ]
  },
  {
   "cell_type": "code",
   "execution_count": 107,
   "metadata": {},
   "outputs": [
    {
     "name": "stdout",
     "output_type": "stream",
     "text": [
      "Tools : 8.451816745655607\n",
      "Entertainment : 6.070864364703228\n",
      "Education : 5.348679756262695\n",
      "Business : 4.5926427443015125\n",
      "Productivity : 3.8930264048747465\n",
      "Lifestyle : 3.8930264048747465\n",
      "Finance : 3.7011961182577298\n",
      "Medical : 3.5319341006544795\n",
      "Sports : 3.4642292936131795\n",
      "Personalization : 3.3175355450236967\n",
      "Communication : 3.238546603475513\n",
      "Action : 3.1031369893929135\n",
      "Health & Fitness : 3.080568720379147\n",
      "Photography : 2.945159106296547\n",
      "News & Magazines : 2.798465357707064\n",
      "Social : 2.663055743624464\n",
      "Travel & Local : 2.324531708417964\n",
      "Shopping : 2.2455427668697814\n",
      "Books & Reference : 2.143985556307831\n",
      "Simulation : 2.0424283457458814\n",
      "Dating : 1.8618821936357481\n",
      "Arcade : 1.8505980591288649\n",
      "Video Players & Editors : 1.7716091175806816\n",
      "Casual : 1.7603249830737984\n",
      "Maps & Navigation : 1.399232678853532\n",
      "Food & Drink : 1.2412547957571656\n",
      "Puzzle : 1.128413450688332\n",
      "Racing : 0.9930038366057323\n",
      "Role Playing : 0.9365831640713158\n",
      "Libraries & Demo : 0.9365831640713158\n",
      "Auto & Vehicles : 0.9252990295644324\n",
      "Strategy : 0.9140148950575491\n",
      "House & Home : 0.8237418190024826\n",
      "Weather : 0.8011735499887158\n",
      "Events : 0.7109004739336493\n",
      "Adventure : 0.6770480704129994\n",
      "Comics : 0.6093432633716994\n",
      "Beauty : 0.598059128864816\n",
      "Art & Design : 0.5754908598510494\n",
      "Parenting : 0.49650191830286616\n",
      "Card : 0.45136538027533285\n",
      "Casino : 0.4287971112615662\n",
      "Trivia : 0.41751297675468296\n",
      "Educational;Education : 0.3949447077409162\n",
      "Board : 0.3836605732340329\n",
      "Educational : 0.3723764387271496\n",
      "Education;Education : 0.3385240352064997\n",
      "Word : 0.2595350936583164\n",
      "Casual;Pretend Play : 0.23696682464454977\n",
      "Music : 0.2031144211238998\n",
      "Racing;Action & Adventure : 0.16926201760324985\n",
      "Puzzle;Brain Games : 0.16926201760324985\n",
      "Entertainment;Music & Video : 0.16926201760324985\n",
      "Casual;Brain Games : 0.13540961408259986\n",
      "Casual;Action & Adventure : 0.13540961408259986\n",
      "Arcade;Action & Adventure : 0.12412547957571654\n",
      "Action;Action & Adventure : 0.1015572105619499\n",
      "Educational;Pretend Play : 0.09027307605506657\n",
      "Simulation;Action & Adventure : 0.07898894154818326\n",
      "Parenting;Education : 0.07898894154818326\n",
      "Entertainment;Brain Games : 0.07898894154818326\n",
      "Board;Brain Games : 0.07898894154818326\n",
      "Parenting;Music & Video : 0.06770480704129993\n",
      "Educational;Brain Games : 0.06770480704129993\n",
      "Casual;Creativity : 0.06770480704129993\n",
      "Art & Design;Creativity : 0.06770480704129993\n",
      "Education;Pretend Play : 0.056420672534416606\n",
      "Role Playing;Pretend Play : 0.045136538027533285\n",
      "Education;Creativity : 0.045136538027533285\n",
      "Role Playing;Action & Adventure : 0.033852403520649964\n",
      "Puzzle;Action & Adventure : 0.033852403520649964\n",
      "Entertainment;Creativity : 0.033852403520649964\n",
      "Entertainment;Action & Adventure : 0.033852403520649964\n",
      "Educational;Creativity : 0.033852403520649964\n",
      "Educational;Action & Adventure : 0.033852403520649964\n",
      "Education;Music & Video : 0.033852403520649964\n",
      "Education;Brain Games : 0.033852403520649964\n",
      "Education;Action & Adventure : 0.033852403520649964\n",
      "Adventure;Action & Adventure : 0.033852403520649964\n",
      "Video Players & Editors;Music & Video : 0.022568269013766643\n",
      "Sports;Action & Adventure : 0.022568269013766643\n",
      "Simulation;Pretend Play : 0.022568269013766643\n",
      "Puzzle;Creativity : 0.022568269013766643\n",
      "Music;Music & Video : 0.022568269013766643\n",
      "Entertainment;Pretend Play : 0.022568269013766643\n",
      "Casual;Education : 0.022568269013766643\n",
      "Board;Action & Adventure : 0.022568269013766643\n",
      "Video Players & Editors;Creativity : 0.011284134506883321\n",
      "Trivia;Education : 0.011284134506883321\n",
      "Travel & Local;Action & Adventure : 0.011284134506883321\n",
      "Tools;Education : 0.011284134506883321\n",
      "Strategy;Education : 0.011284134506883321\n",
      "Strategy;Creativity : 0.011284134506883321\n",
      "Strategy;Action & Adventure : 0.011284134506883321\n",
      "Simulation;Education : 0.011284134506883321\n",
      "Role Playing;Brain Games : 0.011284134506883321\n",
      "Racing;Pretend Play : 0.011284134506883321\n",
      "Puzzle;Education : 0.011284134506883321\n",
      "Parenting;Brain Games : 0.011284134506883321\n",
      "Music & Audio;Music & Video : 0.011284134506883321\n",
      "Lifestyle;Pretend Play : 0.011284134506883321\n",
      "Lifestyle;Education : 0.011284134506883321\n",
      "Health & Fitness;Education : 0.011284134506883321\n",
      "Health & Fitness;Action & Adventure : 0.011284134506883321\n",
      "Entertainment;Education : 0.011284134506883321\n",
      "Communication;Creativity : 0.011284134506883321\n",
      "Comics;Creativity : 0.011284134506883321\n",
      "Casual;Music & Video : 0.011284134506883321\n",
      "Card;Action & Adventure : 0.011284134506883321\n",
      "Books & Reference;Education : 0.011284134506883321\n",
      "Art & Design;Pretend Play : 0.011284134506883321\n",
      "Art & Design;Action & Adventure : 0.011284134506883321\n",
      "Arcade;Pretend Play : 0.011284134506883321\n",
      "Adventure;Education : 0.011284134506883321\n"
     ]
    }
   ],
   "source": [
    "def freq_table(dataset, index):\n",
    "    freq = {}\n",
    "    total = 0\n",
    "    percentage_freq = {}\n",
    "    for data in dataset[1:]:\n",
    "        total+= 1\n",
    "        if data[index] in freq:\n",
    "            freq[data[index]] += 1\n",
    "        else:\n",
    "            freq[data[index]] = 1\n",
    "            \n",
    "    for data in freq:\n",
    "        percentage = (freq[data] / total) * 100\n",
    "        percentage_freq[data] = percentage\n",
    "    \n",
    "    return percentage_freq\n",
    "            \n",
    "def display_table(dataset, index):\n",
    "    table = freq_table(dataset, index)\n",
    "    table_display = []\n",
    "    for key in table:\n",
    "        key_val_as_tuple = (table[key], key)\n",
    "        table_display.append(key_val_as_tuple)\n",
    "    table_sorted = sorted(table_display, reverse = True)\n",
    "    for entry in table_sorted:\n",
    "        print(entry[1], ':', entry[0])\n",
    "\n",
    "display_table(freeGoogleData,9)"
   ]
  },
  {
   "cell_type": "code",
   "execution_count": 127,
   "metadata": {},
   "outputs": [
    {
     "name": "stdout",
     "output_type": "stream",
     "text": [
      "Photo & Video 27249.892215568863\n",
      "Games 18924.68896765618\n",
      "Music 56482.02985074627\n",
      "Social Networking 32503.563380281692\n",
      "Reference 67447.9\n",
      "Health & Fitness 19952.315789473683\n",
      "Weather 47220.93548387097\n",
      "Utilities 14010.100917431193\n",
      "Travel 20216.01785714286\n",
      "Shopping 18746.677685950413\n",
      "News 15892.724137931034\n",
      "Navigation 25972.05\n",
      "Lifestyle 8978.308510638299\n",
      "Entertainment 10822.961077844311\n",
      "Food & Drink 20179.093023255813\n",
      "Sports 20128.974683544304\n",
      "Book 8498.333333333334\n",
      "Finance 13522.261904761905\n",
      "Education 6266.333333333333\n",
      "Productivity 19053.887096774193\n",
      "Business 6367.8\n",
      "Catalogs 1779.5555555555557\n",
      "Medical 459.75\n"
     ]
    }
   ],
   "source": [
    "genre = freq_table(freeAppleData,11)\n",
    "for data1 in genre :\n",
    "    total = 0\n",
    "    len_genre = 0\n",
    "    for data2 in freeAppleData[1:]:\n",
    "        genre_app = data2[11]\n",
    "        if genre_app == data1 :\n",
    "           total +=  float(data2[5])\n",
    "           len_genre += 1\n",
    "    average = total / len_genre\n",
    "    print(data1,average)"
   ]
  },
  {
   "cell_type": "code",
   "execution_count": 126,
   "metadata": {},
   "outputs": [
    {
     "name": "stdout",
     "output_type": "stream",
     "text": [
      "ART_AND_DESIGN 1967474.5454545454\n",
      "AUTO_AND_VEHICLES 647317.8170731707\n",
      "BEAUTY 513151.88679245283\n",
      "BOOKS_AND_REFERENCE 8767811.894736841\n",
      "BUSINESS 1712290.1474201474\n",
      "COMICS 817657.2727272727\n",
      "COMMUNICATION 38456119.167247385\n",
      "DATING 854028.8303030303\n",
      "EDUCATION 1833495.145631068\n",
      "ENTERTAINMENT 11640705.88235294\n",
      "EVENTS 253542.22222222222\n",
      "FINANCE 1387692.475609756\n",
      "FOOD_AND_DRINK 1924897.7363636363\n",
      "HEALTH_AND_FITNESS 4188821.9853479853\n",
      "HOUSE_AND_HOME 1331540.5616438356\n",
      "LIBRARIES_AND_DEMO 638503.734939759\n",
      "LIFESTYLE 1437816.2687861272\n",
      "GAME 15588015.603248259\n",
      "FAMILY 3695641.8198090694\n",
      "MEDICAL 120550.61980830671\n",
      "SOCIAL 23253652.127118643\n",
      "SHOPPING 7036877.311557789\n",
      "PHOTOGRAPHY 17840110.40229885\n",
      "SPORTS 3638640.1428571427\n",
      "TRAVEL_AND_LOCAL 13984077.710144928\n",
      "TOOLS 10801391.298666667\n",
      "PERSONALIZATION 5201482.6122448975\n",
      "PRODUCTIVITY 16787331.344927534\n",
      "PARENTING 542603.6206896552\n",
      "WEATHER 5074486.197183099\n",
      "VIDEO_PLAYERS 24727872.452830188\n",
      "NEWS_AND_MAGAZINES 9549178.467741935\n",
      "MAPS_AND_NAVIGATION 4056941.7741935486\n"
     ]
    }
   ],
   "source": [
    "category = freq_table(freeGoogleData,1)\n",
    "for data1 in category :\n",
    "    total = 0\n",
    "    len_category = 0\n",
    "    installs\n",
    "    for data2 in freeGoogleData[1:]:\n",
    "        category_app = data2[1]\n",
    "        installs = data2[5]\n",
    "        if category_app == data1 :\n",
    "           total +=  float((data2[5].replace(\"+\",\"\")).replace(\",\",\"\"))\n",
    "           len_category += 1\n",
    "    average = total / len_category\n",
    "    print(data1,average)"
   ]
  }
 ],
 "metadata": {
  "kernelspec": {
   "display_name": "Python 3",
   "language": "python",
   "name": "python3"
  },
  "language_info": {
   "codemirror_mode": {
    "name": "ipython",
    "version": 3
   },
   "file_extension": ".py",
   "mimetype": "text/x-python",
   "name": "python",
   "nbconvert_exporter": "python",
   "pygments_lexer": "ipython3",
   "version": "3.8.2"
  }
 },
 "nbformat": 4,
 "nbformat_minor": 2
}
